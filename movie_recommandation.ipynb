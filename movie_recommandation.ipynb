{
  "cells": [
    {
      "cell_type": "code",
      "execution_count": 127,
      "metadata": {
        "id": "yf5TlkEQ6kTX"
      },
      "outputs": [],
      "source": [
        "import numpy as np"
      ]
    },
    {
      "cell_type": "code",
      "execution_count": 128,
      "metadata": {
        "id": "FgE4Kioz69TN"
      },
      "outputs": [],
      "source": [
        "import pandas as pd"
      ]
    },
    {
      "cell_type": "code",
      "execution_count": 129,
      "metadata": {
        "id": "1GELHyR47BYu"
      },
      "outputs": [],
      "source": [
        "movies=pd.read_csv('tmdb_5000_movies.csv')\n",
        "credits=pd.read_csv('tmdb_5000_credits.csv')"
      ]
    },
    {
      "cell_type": "code",
      "execution_count": 130,
      "metadata": {
        "id": "1qP_b30o7X_B"
      },
      "outputs": [],
      "source": [
        "# print(movies.head(1))"
      ]
    },
    {
      "cell_type": "code",
      "execution_count": 131,
      "metadata": {
        "id": "p_nw6HQ08CYK"
      },
      "outputs": [],
      "source": [
        "movies=movies.merge(credits,on='title')"
      ]
    },
    {
      "cell_type": "code",
      "execution_count": 132,
      "metadata": {
        "id": "WK4GpoGP8VOg"
      },
      "outputs": [],
      "source": [
        "#genre\n",
        "# id\n",
        "# keywords\n",
        "#title \n",
        "#overview\n",
        "# popularity\n",
        "#cast\n",
        "#crew\n",
        "\n",
        "movies=movies[['movie_id','title','overview','genres','keywords','cast','crew']]\n",
        "\n"
      ]
    },
    {
      "cell_type": "code",
      "execution_count": null,
      "metadata": {
        "colab": {
          "base_uri": "https://localhost:8080/",
          "height": 510
        },
        "id": "doKWeahg-DUZ",
        "outputId": "312aa50f-baa6-445e-ba53-3c0b8398e70e"
      },
      "outputs": [],
      "source": [
        "# movies=pd.DataFrame(movies)\n",
        "movies.head()"
      ]
    },
    {
      "cell_type": "code",
      "execution_count": null,
      "metadata": {
        "colab": {
          "base_uri": "https://localhost:8080/"
        },
        "id": "bR4oA0hQMt9_",
        "outputId": "b35c88dd-9cb7-407a-f9ca-7b0757319589"
      },
      "outputs": [],
      "source": [
        "movies.shape"
      ]
    },
    {
      "cell_type": "code",
      "execution_count": null,
      "metadata": {
        "colab": {
          "base_uri": "https://localhost:8080/"
        },
        "id": "mZzy5XJh-rYX",
        "outputId": "3d48679e-61d3-45dd-f46f-c04db9a93cc1"
      },
      "outputs": [],
      "source": [
        "movies.isnull().sum()"
      ]
    },
    {
      "cell_type": "code",
      "execution_count": 136,
      "metadata": {
        "id": "u_frkuiK-wFv"
      },
      "outputs": [],
      "source": [
        "movies.dropna(inplace=True)"
      ]
    },
    {
      "cell_type": "code",
      "execution_count": 137,
      "metadata": {
        "id": "FYr3H3rz_Gxx"
      },
      "outputs": [],
      "source": [
        "# movies.isnull().sum()"
      ]
    },
    {
      "cell_type": "code",
      "execution_count": null,
      "metadata": {
        "colab": {
          "base_uri": "https://localhost:8080/"
        },
        "id": "fn8I1kl7_Iuj",
        "outputId": "83c5ca17-18b0-44d6-f228-9916a82643c7"
      },
      "outputs": [],
      "source": [
        "movies.duplicated().sum()"
      ]
    },
    {
      "cell_type": "code",
      "execution_count": 139,
      "metadata": {
        "id": "-lGpY0Xd_My3"
      },
      "outputs": [],
      "source": [
        "# movies.iloc[0].genres"
      ]
    },
    {
      "cell_type": "code",
      "execution_count": 140,
      "metadata": {
        "id": "4iuG5UK8_fTQ"
      },
      "outputs": [],
      "source": [
        "import ast\n",
        "def convert(obj):\n",
        "  L=[]\n",
        "  for i in ast.literal_eval(obj):\n",
        "    L.append(i['name'])\n",
        "  return L"
      ]
    },
    {
      "cell_type": "code",
      "execution_count": 141,
      "metadata": {
        "id": "KfF1Sk--_uIf"
      },
      "outputs": [],
      "source": [
        "movies['genres']=movies['genres'].apply(convert)\n",
        "movies['keywords']=movies['keywords'].apply(convert)\n"
      ]
    },
    {
      "cell_type": "code",
      "execution_count": 142,
      "metadata": {
        "id": "FIpZJ_vLBn03"
      },
      "outputs": [],
      "source": [
        "import ast\n",
        "def convert1(obj):\n",
        "  L=[]\n",
        "  c=0\n",
        "  for i in ast.literal_eval(obj):\n",
        "    if c!=3:\n",
        "       L.append(i['name'])\n",
        "       c+=1\n",
        "    else:\n",
        "      break\n",
        "  return L"
      ]
    },
    {
      "cell_type": "code",
      "execution_count": 143,
      "metadata": {
        "id": "IWPa4JdHB315"
      },
      "outputs": [],
      "source": [
        "movies['cast']=movies['cast'].apply(convert1)"
      ]
    },
    {
      "cell_type": "code",
      "execution_count": null,
      "metadata": {
        "colab": {
          "base_uri": "https://localhost:8080/",
          "height": 475
        },
        "id": "AeHv1EgICBiY",
        "outputId": "b6269df3-01c7-469f-8cac-5f0a719a5a17"
      },
      "outputs": [],
      "source": [
        "movies.head()"
      ]
    },
    {
      "cell_type": "code",
      "execution_count": null,
      "metadata": {
        "colab": {
          "base_uri": "https://localhost:8080/"
        },
        "id": "gXw7eOoSCF1f",
        "outputId": "3a4b4180-72d9-44fd-c88b-be7728d9babc"
      },
      "outputs": [],
      "source": [
        "print(movies['crew'][0])"
      ]
    },
    {
      "cell_type": "code",
      "execution_count": 146,
      "metadata": {
        "id": "onS9TCPqC3_m"
      },
      "outputs": [],
      "source": [
        "import ast\n",
        "def convert2(obj):\n",
        "  L=[]\n",
        "  for i in ast.literal_eval(obj):\n",
        "    if i['job']=='Director':\n",
        "       L.append(i['name'])\n",
        "       break\n",
        "  return L"
      ]
    },
    {
      "cell_type": "code",
      "execution_count": 147,
      "metadata": {
        "id": "vv614oMyDRCO"
      },
      "outputs": [],
      "source": [
        "movies['crew']=movies['crew'].apply(convert2)"
      ]
    },
    {
      "cell_type": "code",
      "execution_count": null,
      "metadata": {
        "colab": {
          "base_uri": "https://localhost:8080/",
          "height": 423
        },
        "id": "AYaoogMTDaFf",
        "outputId": "98c000bd-7d83-4841-8915-f91fb0648780"
      },
      "outputs": [],
      "source": [
        "movies.head()"
      ]
    },
    {
      "cell_type": "code",
      "execution_count": 149,
      "metadata": {
        "id": "vscAtanoDyyo"
      },
      "outputs": [],
      "source": [
        "movies['overview']=movies['overview'].apply(lambda x:x.split())"
      ]
    },
    {
      "cell_type": "code",
      "execution_count": 150,
      "metadata": {
        "id": "fVWSqf2sEM7u"
      },
      "outputs": [],
      "source": [
        "movies['genres']=movies['genres'].apply(lambda x:[i.replace(\" \",\"\") for i in x])\n",
        "movies['keywords']=movies['keywords'].apply(lambda x:[i.replace(\" \",\"\") for i in x])\n",
        "movies['cast']=movies['cast'].apply(lambda x:[i.replace(\" \",\"\") for i in x])\n",
        "movies['crew']=movies['crew'].apply(lambda x:[i.replace(\" \",\"\") for i in x])"
      ]
    },
    {
      "cell_type": "code",
      "execution_count": null,
      "metadata": {
        "colab": {
          "base_uri": "https://localhost:8080/",
          "height": 441
        },
        "id": "iA3UhEREE4FO",
        "outputId": "96f255d9-5488-4b2a-ef0f-6d5fc21b4bd8"
      },
      "outputs": [],
      "source": [
        "movies.head()"
      ]
    },
    {
      "cell_type": "code",
      "execution_count": 152,
      "metadata": {
        "id": "8bmCT5YUFdjH"
      },
      "outputs": [],
      "source": [
        "movies['tags']=movies['overview']+movies['genres']+movies['keywords']+movies['cast']+movies['crew']\n"
      ]
    },
    {
      "cell_type": "code",
      "execution_count": 153,
      "metadata": {
        "id": "NqCKkdjTFszV"
      },
      "outputs": [],
      "source": [
        "df=movies.drop(columns=['overview','genres','keywords','cast','crew'])\n"
      ]
    },
    {
      "cell_type": "code",
      "execution_count": 154,
      "metadata": {
        "id": "PcbwpKPONFu7"
      },
      "outputs": [],
      "source": [
        "df['tags']=df['tags'].apply(lambda x:\" \".join(x))"
      ]
    },
    {
      "cell_type": "code",
      "execution_count": null,
      "metadata": {
        "colab": {
          "base_uri": "https://localhost:8080/",
          "height": 206
        },
        "id": "JUpD6el-Nk8F",
        "outputId": "aefacd3d-85d7-4bfd-bece-31c384e08009"
      },
      "outputs": [],
      "source": [
        "df.head()"
      ]
    },
    {
      "cell_type": "code",
      "execution_count": 156,
      "metadata": {
        "id": "1smI4tvuL0Nj"
      },
      "outputs": [],
      "source": [
        "from nltk.stem.porter import PorterStemmer\n",
        "ps=PorterStemmer()\n",
        "def stem(text):\n",
        "  y=[]\n",
        "  for i in text.split():\n",
        "    y.append(ps.stem(i))\n",
        "  return \" \".join(y)"
      ]
    },
    {
      "cell_type": "code",
      "execution_count": 157,
      "metadata": {
        "id": "9POeko_qGAb9"
      },
      "outputs": [],
      "source": [
        "df['tags']=df['tags'].apply(stem) "
      ]
    },
    {
      "cell_type": "code",
      "execution_count": 158,
      "metadata": {
        "id": "EX_UDju-Gow_"
      },
      "outputs": [],
      "source": [
        "df['tags']=df['tags'].apply(lambda x:x.lower())"
      ]
    },
    {
      "cell_type": "code",
      "execution_count": null,
      "metadata": {
        "colab": {
          "base_uri": "https://localhost:8080/",
          "height": 206
        },
        "id": "TOts-cojGydl",
        "outputId": "7199bf9f-0f98-4325-e7b9-4a9149136f39"
      },
      "outputs": [],
      "source": [
        "df.head()"
      ]
    },
    {
      "cell_type": "code",
      "execution_count": 160,
      "metadata": {
        "id": "0DNK72KBG1LF"
      },
      "outputs": [],
      "source": [
        "from sklearn.feature_extraction.text import CountVectorizer\n"
      ]
    },
    {
      "cell_type": "code",
      "execution_count": 161,
      "metadata": {
        "id": "WtZ3S35lK92M"
      },
      "outputs": [],
      "source": [
        "cv=CountVectorizer(max_features=5000,stop_words='english')"
      ]
    },
    {
      "cell_type": "code",
      "execution_count": 162,
      "metadata": {
        "id": "qZ2MLiatLJDA"
      },
      "outputs": [],
      "source": [
        "vectors=cv.fit_transform(df['tags']).toarray()"
      ]
    },
    {
      "cell_type": "code",
      "execution_count": null,
      "metadata": {
        "colab": {
          "base_uri": "https://localhost:8080/"
        },
        "id": "PQX9Cyo4LPt7",
        "outputId": "91d03f49-46f2-45f1-923b-37fda73351f8"
      },
      "outputs": [],
      "source": [
        "cv.get_feature_names()"
      ]
    },
    {
      "cell_type": "code",
      "execution_count": 164,
      "metadata": {
        "id": "ggdo6Q5JNpVV"
      },
      "outputs": [],
      "source": [
        "from sklearn.metrics.pairwise import cosine_similarity"
      ]
    },
    {
      "cell_type": "code",
      "execution_count": 165,
      "metadata": {
        "id": "cUvRe9Y7OY9T"
      },
      "outputs": [],
      "source": [
        "similarity=cosine_similarity(vectors)"
      ]
    },
    {
      "cell_type": "code",
      "execution_count": null,
      "metadata": {
        "colab": {
          "base_uri": "https://localhost:8080/",
          "height": 206
        },
        "id": "i6H3Mt7NO6Y1",
        "outputId": "4ca7f4fd-d449-483f-fb8d-f8c4a9cf16ee"
      },
      "outputs": [],
      "source": [
        "df.head()"
      ]
    },
    {
      "cell_type": "code",
      "execution_count": null,
      "metadata": {
        "colab": {
          "base_uri": "https://localhost:8080/"
        },
        "id": "-ToB9kmdOn9q",
        "outputId": "4f4d5245-47f6-49e8-db54-b3b03a4a8c01"
      },
      "outputs": [],
      "source": [
        "def recommend(movie):\n",
        "  if df[df['title']==movie].shape==(0,3):\n",
        "    return \"wrong movie name\"\n",
        "  movie_index=df[df['title']==movie].index[0]\n",
        "  distances=similarity[movie_index]\n",
        "  movie_list=sorted(list(enumerate(distances)),reverse=True,key=lambda x:x[1])[1:6]\n",
        "  for i in movie_list:\n",
        "    print(df.iloc[i[0]].title)\n",
        "  return \n",
        "recommend('Batman Begins')"
      ]
    },
    {
      "cell_type": "code",
      "execution_count": 168,
      "metadata": {
        "id": "a8J4BALs0ILt"
      },
      "outputs": [],
      "source": [
        "import pickle\n",
        "pickle.dump(df,open('movies.pkl','wb'))"
      ]
    },
    {
      "cell_type": "code",
      "execution_count": 169,
      "metadata": {
        "id": "_E98q3okBbGY"
      },
      "outputs": [],
      "source": [
        "pickle.dump(similarity,open('metrix.pkl','wb'))"
      ]
    }
  ],
  "metadata": {
    "colab": {
      "provenance": []
    },
    "kernelspec": {
      "display_name": "Python 3",
      "name": "python3"
    },
    "language_info": {
      "name": "python"
    }
  },
  "nbformat": 4,
  "nbformat_minor": 0
}
